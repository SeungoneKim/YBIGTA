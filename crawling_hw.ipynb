{
 "cells": [
  {
   "cell_type": "code",
   "execution_count": 40,
   "metadata": {},
   "outputs": [],
   "source": [
    "from selenium import webdriver\n",
    "from selenium.webdriver.common.keys import Keys\n",
    "import time"
   ]
  },
  {
   "cell_type": "code",
   "execution_count": 41,
   "metadata": {},
   "outputs": [],
   "source": [
    "path = \"/Users/louisdebroglie/Documents/김승원's 대외활동/YBIGTA/겨울방학 교육세션/크롤링/chromedriver\"\n",
    "driver = webdriver.Chrome(path)"
   ]
  },
  {
   "cell_type": "code",
   "execution_count": 42,
   "metadata": {},
   "outputs": [],
   "source": [
    "driver.get(\"https://naver.com/\")"
   ]
  },
  {
   "cell_type": "code",
   "execution_count": 43,
   "metadata": {},
   "outputs": [],
   "source": [
    "search_bar = driver.find_element_by_id('query')\n",
    "time.sleep(2)\n",
    "\n",
    "search_bar.send_keys('제주도')\n",
    "time.sleep(2)\n",
    "\n",
    "search_bar.send_keys(Keys.RETURN)\n",
    "time.sleep(2)"
   ]
  },
  {
   "cell_type": "code",
   "execution_count": 48,
   "metadata": {},
   "outputs": [
    {
     "name": "stdout",
     "output_type": "stream",
     "text": [
      "['제주도 독채펜션 제주 함덕해수욕장 감성 숙소', '제주도 펜션 독채풀빌라로 추천해요', '제주도 여행기 식당편', '제주도 키즈펜션 풀빌라 더럭 아이 좋앙~', '제주도펜션 귤밭뷰 숙소에서 향긋하게', '첫 제주도여행 도와주세요 ㅠㅠ!', '2박 3일 제주도 여행 제주 · 서귀포 올레 7코스']\n"
     ]
    }
   ],
   "source": [
    "article_title = []\n",
    "\n",
    "#list_of_articles = driver.find_element_by_class('lst_total _list_base')\n",
    "\n",
    "for idx in range(1,8):\n",
    "    idx = str(idx)\n",
    "    css_selector = '#main_pack > section.sc_new.sp_nreview._prs_rvw._au_view_collection > div > div._svp_list > panel-list > div:nth-child(1) > ul > li:nth-child('+idx+') > div.total_wrap.api_ani_send > a.api_txt_lines.total_tit'\n",
    "    content = driver.find_element_by_css_selector(css_selector)\n",
    "    article_title.append(content.get_attribute(\"text\"))\n",
    "    \n",
    "print(article_title)"
   ]
  },
  {
   "cell_type": "code",
   "execution_count": 50,
   "metadata": {},
   "outputs": [
    {
     "name": "stdout",
     "output_type": "stream",
     "text": [
      "The title of the 0th article about Jeju Island is : 제주도 독채펜션 제주 함덕해수욕장 감성 숙소\n",
      "The title of the 1th article about Jeju Island is : 제주도 펜션 독채풀빌라로 추천해요\n",
      "The title of the 2th article about Jeju Island is : 제주도 여행기 식당편\n",
      "The title of the 3th article about Jeju Island is : 제주도 키즈펜션 풀빌라 더럭 아이 좋앙~\n",
      "The title of the 4th article about Jeju Island is : 제주도펜션 귤밭뷰 숙소에서 향긋하게\n",
      "The title of the 5th article about Jeju Island is : 첫 제주도여행 도와주세요 ㅠㅠ!\n",
      "The title of the 6th article about Jeju Island is : 2박 3일 제주도 여행 제주 · 서귀포 올레 7코스\n"
     ]
    }
   ],
   "source": [
    "for idx,title in enumerate(article_title):\n",
    "    print('The title of the',str(idx)+'th article about Jeju Island is :',title)"
   ]
  }
 ],
 "metadata": {
  "kernelspec": {
   "display_name": "Python 3",
   "language": "python",
   "name": "python3"
  },
  "language_info": {
   "codemirror_mode": {
    "name": "ipython",
    "version": 3
   },
   "file_extension": ".py",
   "mimetype": "text/x-python",
   "name": "python",
   "nbconvert_exporter": "python",
   "pygments_lexer": "ipython3",
   "version": "3.8.5"
  }
 },
 "nbformat": 4,
 "nbformat_minor": 4
}
